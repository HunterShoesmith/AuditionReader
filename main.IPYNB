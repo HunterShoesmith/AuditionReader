{
 "cells": [
  {
   "cell_type": "code",
   "execution_count": 9,
   "metadata": {},
   "outputs": [],
   "source": [
    "#imports\n",
    "\n",
    "import cv2 as cv\n",
    "import numpy as np\n",
    "import sys\n",
    "from matplotlib import pyplot as plt\n",
    "from operator import itemgetter\n",
    "from itertools import groupby\n"
   ]
  },
  {
   "cell_type": "code",
   "execution_count": 66,
   "metadata": {},
   "outputs": [],
   "source": [
    "#image to read for arrows\n",
    "img_rgb = cv.imread('images/test1.png')\n",
    "assert img_rgb is not None, \"file could not be read, check with os.path.exists()1\"\n",
    "\n",
    "img_gray = cv.cvtColor(img_rgb, cv.COLOR_BGR2GRAY)\n",
    "\n",
    "template_r = cv.imread('images/right.png', cv.IMREAD_GRAYSCALE)\n",
    "template_d = cv.imread('images/down.png', cv.IMREAD_GRAYSCALE)\n",
    "template_l = cv.imread('images/left.png', cv.IMREAD_GRAYSCALE)\n",
    "template_u = cv.imread('images/up.png', cv.IMREAD_GRAYSCALE)\n",
    "\n",
    "\n",
    "assert template_r is not None, \"file could not be read, check with os.path.exists()2\"\n",
    "assert template_d is not None, \"file could not be read, check with os.path.exists()2\"\n",
    "assert template_l is not None, \"file could not be read, check with os.path.exists()2\"\n",
    "assert template_u is not None, \"file could not be read, check with os.path.exists()2\"\n",
    "\n",
    "#vars for later\n",
    "threshold = 0.8\n",
    "#all heights and widths are same for arrow images (36x36)\n",
    "w, h = template_r.shape[::-1]"
   ]
  },
  {
   "cell_type": "code",
   "execution_count": 67,
   "metadata": {},
   "outputs": [
    {
     "name": "stdout",
     "output_type": "stream",
     "text": [
      "[[65, 'D'], [105, 'U'], [144, 'R'], [185, 'D'], [224, 'R'], [264, 'L']]\n"
     ]
    }
   ],
   "source": [
    "#find where arrow centers are\n",
    "res_r = cv.matchTemplate(img_gray,template_r,cv.TM_CCOEFF_NORMED)\n",
    "res_d = cv.matchTemplate(img_gray,template_d,cv.TM_CCOEFF_NORMED)\n",
    "res_l = cv.matchTemplate(img_gray,template_l,cv.TM_CCOEFF_NORMED)\n",
    "res_u = cv.matchTemplate(img_gray,template_u,cv.TM_CCOEFF_NORMED)\n",
    "\n",
    "#get location of pixels where arrows are\n",
    "loc_r = np.where( res_r >= threshold)\n",
    "loc_d = np.where( res_d >= threshold)\n",
    "loc_l = np.where( res_l >= threshold)\n",
    "loc_u = np.where( res_u >= threshold)\n",
    "#print(loc_d[1:][0])\n",
    "#print(set(loc_d[1:][0]))\n",
    "\n",
    "set_r = set(loc_r[1:][0])\n",
    "set_d = set(loc_d[1:][0])\n",
    "set_l = set(loc_l[1:][0])\n",
    "set_u = set(loc_u[1:][0])\n",
    "\n",
    "#all arrows location + direction pairs\n",
    "list_y = []\n",
    "\n",
    "for i in set_r:\n",
    "    if len(list_y) == 0:\n",
    "        list_y.append([i,\"R\"])\n",
    "    elif (abs(i - list_y[-1][0]) > 7):\n",
    "        list_y.append([i,\"R\"])\n",
    "\n",
    "for i in set_d:\n",
    "    if len(list_y) == 0:\n",
    "        list_y.append([i,\"D\"])\n",
    "    elif (abs(i - list_y[-1][0]) > 7):\n",
    "        list_y.append([i,\"D\"])\n",
    "\n",
    "for i in set_l:\n",
    "    if len(list_y) == 0:\n",
    "        list_y.append([i,\"L\"])\n",
    "    elif (abs(i - list_y[-1][0]) > 7):\n",
    "        list_y.append([i,\"L\"])\n",
    "\n",
    "for i in set_u:\n",
    "    if len(list_y) == 0:\n",
    "        list_y.append([i,\"U\"])\n",
    "    elif (abs(i - list_y[-1][0]) > 7):\n",
    "        list_y.append([i,\"U\"])\n",
    "\n",
    "list_y = sorted(list_y, key=itemgetter(0))\n",
    "\n",
    "print(list_y)\n",
    "#get centers on arrows y-axis\n"
   ]
  }
 ],
 "metadata": {
  "kernelspec": {
   "display_name": "Python 3",
   "language": "python",
   "name": "python3"
  },
  "language_info": {
   "codemirror_mode": {
    "name": "ipython",
    "version": 3
   },
   "file_extension": ".py",
   "mimetype": "text/x-python",
   "name": "python",
   "nbconvert_exporter": "python",
   "pygments_lexer": "ipython3",
   "version": "3.9.13"
  }
 },
 "nbformat": 4,
 "nbformat_minor": 2
}
