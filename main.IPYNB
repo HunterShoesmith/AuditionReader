{
 "cells": [
  {
   "cell_type": "code",
   "execution_count": 2,
   "metadata": {},
   "outputs": [],
   "source": [
    "#imports\n",
    "\n",
    "import cv2 as cv\n",
    "import numpy as np\n",
    "import sys\n",
    "from matplotlib import pyplot as plt\n",
    "from operator import itemgetter\n",
    "from itertools import groupby\n"
   ]
  },
  {
   "cell_type": "code",
   "execution_count": 7,
   "metadata": {},
   "outputs": [],
   "source": [
    "#image to read for arrows\n",
    "#CREATE BETTER FLOW HERE, TOO MUCH REPITITION\n",
    "img_rgb = cv.imread('images/test1.png')\n",
    "assert img_rgb is not None, \"file could not be read, check with os.path.exists()1\"\n",
    "\n",
    "img_gray = cv.cvtColor(img_rgb, cv.COLOR_BGR2GRAY)\n",
    "\n",
    "paths = ['images/right.png',\n",
    "         'images/down.png',\n",
    "         'images/left.png',\n",
    "         'images/up.png']\n",
    "\n",
    "pathNames = [\"R\",\n",
    "             \"D\",\n",
    "             \"L\",\n",
    "             \"U\"]\n",
    "\n",
    "templates = []\n",
    "\n",
    "for item in paths:\n",
    "    templates.append(cv.imread(item, cv.IMREAD_GRAYSCALE))\n",
    "    assert templates[-1] is not None, \"file could not be read, check with os.path.exists()2\"\n",
    "\n",
    "#vars for later\n",
    "threshold = 0.8\n",
    "#all heights and widths are assumed same for arrow images (36x36)\n",
    "w, h = templates[0].shape[::-1]"
   ]
  },
  {
   "cell_type": "code",
   "execution_count": null,
   "metadata": {},
   "outputs": [],
   "source": []
  },
  {
   "cell_type": "code",
   "execution_count": 8,
   "metadata": {},
   "outputs": [
    {
     "name": "stdout",
     "output_type": "stream",
     "text": [
      "[[65, 'D'], [105, 'U'], [144, 'R'], [185, 'D'], [224, 'R'], [264, 'L']]\n"
     ]
    }
   ],
   "source": [
    "#find where arrow centers are\n",
    "locations = []\n",
    "for item in templates:\n",
    "    locations.append(np.where(cv.matchTemplate(img_gray,item,cv.TM_CCOEFF_NORMED) >= threshold))\n",
    "\n",
    "locSets = []\n",
    "for item in locations:\n",
    "    locSets.append(set(item[1:][0]))\n",
    "\n",
    "#all arrows location + direction pairs\n",
    "list_y = []\n",
    "\n",
    "#messy solution, should make class for arrow types\n",
    "itter = 0\n",
    "\n",
    "for item in locSets:\n",
    "    for i in item:\n",
    "        if len(list_y) == 0:\n",
    "            list_y.append([i,pathNames[itter]])\n",
    "        elif (abs(i - list_y[-1][0]) > 7):\n",
    "            list_y.append([i,pathNames[itter]])\n",
    "    itter += 1\n",
    "\n",
    "list_y = sorted(list_y, key=itemgetter(0))\n",
    "\n",
    "print(list_y)\n",
    "#get centers on arrows y-axis\n"
   ]
  }
 ],
 "metadata": {
  "kernelspec": {
   "display_name": "Python 3",
   "language": "python",
   "name": "python3"
  },
  "language_info": {
   "codemirror_mode": {
    "name": "ipython",
    "version": 3
   },
   "file_extension": ".py",
   "mimetype": "text/x-python",
   "name": "python",
   "nbconvert_exporter": "python",
   "pygments_lexer": "ipython3",
   "version": "3.9.13"
  }
 },
 "nbformat": 4,
 "nbformat_minor": 2
}
